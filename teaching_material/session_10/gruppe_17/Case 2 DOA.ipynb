{
 "cells": [
  {
   "cell_type": "markdown",
   "id": "65785c5f",
   "metadata": {},
   "source": [
    "# Python code til udregning af data fra ATP\n"
   ]
  },
  {
   "cell_type": "code",
   "execution_count": 2,
   "id": "1615356b",
   "metadata": {},
   "outputs": [],
   "source": [
    "#Imports \n",
    "\n"
   ]
  },
  {
   "cell_type": "markdown",
   "id": "4fd2229a",
   "metadata": {},
   "source": [
    "# Udregninger"
   ]
  },
  {
   "cell_type": "markdown",
   "id": "ca6753db",
   "metadata": {},
   "source": [
    "## Alder for at kunne blive tilbudt tidlig pension"
   ]
  },
  {
   "cell_type": "code",
   "execution_count": 11,
   "id": "980c53b7",
   "metadata": {},
   "outputs": [
    {
     "name": "stdout",
     "output_type": "stream",
     "text": [
      "1960 kan anmode om tidlig pension\n",
      "1955 sidste år inden folkepension indtræder\n"
     ]
    }
   ],
   "source": [
    "#Årgange født i 1955-1960 har adgang til at søge i 2021. \n",
    "#Man skal være fyldt 61 for at søge. \n",
    "print(2021-61, \"kan anmode om tidlig pension\")\n",
    "#Der indgår personer fra 6 1⁄2 årgange\n",
    "print(2021-66, \"sidste år inden folkepension indtræder\")\n",
    "#da personer født 1.halvår 1955 har nået folkepensionsalderen inden 1. januar 2022."
   ]
  },
  {
   "cell_type": "markdown",
   "id": "0caea3c8",
   "metadata": {},
   "source": [
    "## Forventede ansøgning"
   ]
  },
  {
   "cell_type": "code",
   "execution_count": 45,
   "id": "e39b762e",
   "metadata": {},
   "outputs": [
    {
     "name": "stdout",
     "output_type": "stream",
     "text": [
      "Det vil sige, at dem der afstår retten til tidlig pension er 16100 personer\n"
     ]
    }
   ],
   "source": [
    "#Omkring 38.000 helårspersoner forventes at opnå ret til at gå på tidligt pension i 2022. \n",
    "#Det dækker over muligheden for at 1, 2 eller 3 år. \n",
    "#22.000 vil benytte sig af retten i 2022, 6000 fra beskæftigelse. \n",
    "ansøgning = 38100 #personer\n",
    "benyttelse = 22000 #benytter tidlig pension\n",
    "print(\"Det vil sige, at dem der afstår retten til tidlig pension er\", ansøgning-benyttelse, \"personer\")\n"
   ]
  },
  {
   "cell_type": "markdown",
   "id": "51a3ea31",
   "metadata": {},
   "source": [
    "## Personer med 44+ på arbejdsmarkedet"
   ]
  },
  {
   "cell_type": "code",
   "execution_count": 48,
   "id": "8f5c718a",
   "metadata": {},
   "outputs": [
    {
     "name": "stdout",
     "output_type": "stream",
     "text": [
      "8.799999999999999 af de 26 % af ansøgerne har automatisk fuld anciennitet er 9906 personer\n"
     ]
    }
   ],
   "source": [
    "#Personer med 44+ år på arbejdsmarkedet har automatisk fuld anciennitet.\n",
    "automatisk_behandling = 1.7+7.1\n",
    "berettiget = 33.9\n",
    "procent = round(automatisk_behandling/berettiget*100)\n",
    "\n",
    "print(automatisk_behandling, \"af de\", round(automatisk_behandling/berettiget*100), \n",
    "      \"% af ansøgerne har automatisk fuld anciennitet er\", round(ansøgning/100*procent), \"personer\")\n",
    "\n",
    "#8,8  ud af 33,9 = 26 % af ansøgerne har automatisk fuld anciennitet. 26% af 38.100 = 9906 personer."
   ]
  },
  {
   "cell_type": "markdown",
   "id": "cd114e9d",
   "metadata": {},
   "source": [
    "## Manuel håndtering"
   ]
  },
  {
   "cell_type": "code",
   "execution_count": 55,
   "id": "60656d1d",
   "metadata": {},
   "outputs": [
    {
     "name": "stdout",
     "output_type": "stream",
     "text": [
      "28194 ansøgere kræver manuel håndtering\n"
     ]
    }
   ],
   "source": [
    "#Personer der har 42 eller 43 års anciennitet på arbejdsmarkedet kræver manuel håndtering.\n",
    "resterende = 74\n",
    "#74% af 38.100 ansøgere = 28.194 ansøgere kræver manuel håndtering\n",
    "print(round(ansøgning/100*resterende),\"ansøgere kræver manuel håndtering\")"
   ]
  },
  {
   "cell_type": "markdown",
   "id": "e09a5a52",
   "metadata": {},
   "source": [
    "## Supplerende dokumentation"
   ]
  },
  {
   "cell_type": "code",
   "execution_count": 54,
   "id": "f8792d30",
   "metadata": {},
   "outputs": [
    {
     "name": "stdout",
     "output_type": "stream",
     "text": [
      "14097\n"
     ]
    }
   ],
   "source": [
    "#Vi forventer, at 50% af ansøgerne der kræver manuel behandling indsender supplerende dokumentation. \n",
    "halvdelen = 2\n",
    "manuel_håndtering = 28194\n",
    "#50% af 28.194 = 14.097 personer.\n",
    "print(round(manuel_håndtering/halvdelen))"
   ]
  },
  {
   "cell_type": "markdown",
   "id": "e4d158c2",
   "metadata": {},
   "source": [
    "## Uger i ansøgningsperioden"
   ]
  },
  {
   "cell_type": "code",
   "execution_count": 65,
   "id": "c0259e22",
   "metadata": {},
   "outputs": [
    {
     "name": "stdout",
     "output_type": "stream",
     "text": [
      "21 uger ansøgningsperioden\n"
     ]
    }
   ],
   "source": [
    "#Hvor mange uger er der i perioden d. 1. august – 31. december?\n",
    "antal_uger = 52 #uger\n",
    "uger_i_perioden = 31 #uger\n",
    "print(antal_uger-uger_i_perioden,\"uger ansøgningsperioden\")\n"
   ]
  },
  {
   "cell_type": "markdown",
   "id": "148e0649",
   "metadata": {},
   "source": [
    "## Arbejdstimer"
   ]
  },
  {
   "cell_type": "code",
   "execution_count": 64,
   "id": "8d7b9fbe",
   "metadata": {},
   "outputs": [
    {
     "name": "stdout",
     "output_type": "stream",
     "text": [
      "7048.5  antal arbejdstimer\n"
     ]
    }
   ],
   "source": [
    "#Hvor mange arbejdstimer er der behov for i perioden?\n",
    "#ATP har et erfaringsbaseret estimat for tidsforbruget ifm. manuel behandling af en typisk ansøgning, \n",
    "#svarende til 30 minutter.\n",
    "\n",
    "supplerende = 14097 #antal ansøgning der kræver \n",
    "halvtime = 2 #halv time\n",
    "\n",
    "print(supplerende/halvtime,\" antal arbejdstimer\")\n",
    "\n"
   ]
  },
  {
   "cell_type": "markdown",
   "id": "6e71847d",
   "metadata": {},
   "source": [
    "## antal medarbejder"
   ]
  },
  {
   "cell_type": "code",
   "execution_count": 101,
   "id": "9322f108",
   "metadata": {},
   "outputs": [
    {
     "name": "stdout",
     "output_type": "stream",
     "text": [
      "40.38461538461539 % af et år, af de 1356 timer = 548 timer\n",
      "13 medarbejder\n"
     ]
    }
   ],
   "source": [
    "#Hvor mange timer om ugen er det rimeligt at sige at hver medarbejder bruger på sagsbehandling? \n",
    "#Der går også timer på administration, interne møder og andet.\n",
    "uger_ansøgning = 21 #uger\n",
    "årsværk_ATP = 1356 #timer\n",
    "procent_år = 40.38 #procent\n",
    "print(uger_ansøgning/antal_uger*100, \"% af et år, af de 1356 timer =\", round(årsværk_ATP*0.404),\"timer\")\n",
    "print(round((supplerende/halvtime)/548),\"medarbejder\")"
   ]
  },
  {
   "cell_type": "code",
   "execution_count": null,
   "id": "72ceedc9",
   "metadata": {},
   "outputs": [],
   "source": []
  },
  {
   "cell_type": "code",
   "execution_count": null,
   "id": "04ca6b05",
   "metadata": {},
   "outputs": [],
   "source": []
  },
  {
   "cell_type": "code",
   "execution_count": null,
   "id": "463e3d7a",
   "metadata": {},
   "outputs": [],
   "source": []
  }
 ],
 "metadata": {
  "kernelspec": {
   "display_name": "Python 3",
   "language": "python",
   "name": "python3"
  },
  "language_info": {
   "codemirror_mode": {
    "name": "ipython",
    "version": 3
   },
   "file_extension": ".py",
   "mimetype": "text/x-python",
   "name": "python",
   "nbconvert_exporter": "python",
   "pygments_lexer": "ipython3",
   "version": "3.8.8"
  }
 },
 "nbformat": 4,
 "nbformat_minor": 5
}
